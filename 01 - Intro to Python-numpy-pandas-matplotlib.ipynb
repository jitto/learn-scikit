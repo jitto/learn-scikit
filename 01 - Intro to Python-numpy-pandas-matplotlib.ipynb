{
  "cells": [
    {
      "cell_type": "markdown",
      "metadata": {
        "id": "view-in-github",
        "colab_type": "text"
      },
      "source": [
        "<a href=\"https://colab.research.google.com/github/jitto/learn-scikit/blob/master/01%20-%20Intro%20to%20Python-numpy-pandas-matplotlib.ipynb\" target=\"_parent\"><img src=\"https://colab.research.google.com/assets/colab-badge.svg\" alt=\"Open In Colab\"/></a>"
      ]
    },
    {
      "cell_type": "markdown",
      "metadata": {
        "id": "YTGbhJkbSRGv"
      },
      "source": [
        "Jupyter allows you to mix code and text in a notebook format.  Many languages are supported, but we will use Python2.\n",
        "\n",
        "Yo can create a new cell using **+**.  Change type between **Markdown** or **Code**\n",
        "\n",
        "Shift+ENTER runs the code.  Complete the code below (tab for code completion and hints) and run it:"
      ]
    },
    {
      "cell_type": "code",
      "execution_count": null,
      "metadata": {
        "id": "WKiD_nm8SRG0"
      },
      "outputs": [],
      "source": [
        "# This is a comment.  Use the next commented out line as example and complete the line after that.\n",
        "# print \"Hello Python\"\n",
        "prin"
      ]
    },
    {
      "cell_type": "markdown",
      "metadata": {
        "id": "R9ONOp4NSRG2"
      },
      "source": [
        "Most useful shortcut/magic in notebook is %time and %prun (profile).  Try those 2 below - as well as %magic to see list of other shortcuts."
      ]
    },
    {
      "cell_type": "code",
      "execution_count": null,
      "metadata": {
        "id": "RTEyzy5USRG2"
      },
      "outputs": [],
      "source": [
        "%time print \"test\"\n",
        "# %prun print \"test\"\n",
        "# %quickref\n",
        "# %magic"
      ]
    },
    {
      "cell_type": "markdown",
      "metadata": {
        "id": "BUO78upJSRG3"
      },
      "source": [
        "If you are new to python, it will help to do an introductory course - https://developers.google.com/edu/python/introduction\n",
        "\n",
        "Most commonly used syntax and functions can be seen below:"
      ]
    },
    {
      "cell_type": "code",
      "execution_count": null,
      "metadata": {
        "id": "ffFlL9FbSRG3"
      },
      "outputs": [],
      "source": [
        "print len(\"Length of 1 char is \" + str(\"345\"[1])) #string as array, string append, number to string\n",
        "[1]*5#simple 5 element array\n",
        "\n",
        "a = [\"t\", \"e\", \"s\", \"t\"]\n",
        "a[0:2] = \"z\"#replace portions of array\n",
        "\n",
        "print a[:-1]#retrieve portion of array\n",
        "\n",
        "for a in sorted([1,2,3,4], reverse=True):#sort reverse and loop, sort can be done with key and custom functions\n",
        "    print a\n",
        "\n",
        "if \"1\" in \"1234\":#find element in array/string\n",
        "    print \"found 1\"\n",
        "\n",
        "for a in range(3):#range to loop from 0 to 2\n",
        "    print a\n",
        "\n",
        "#tuple\n",
        "#dict"
      ]
    },
    {
      "cell_type": "markdown",
      "source": [
        "Vectors and Matrices - todo"
      ],
      "metadata": {
        "id": "iZclVh88STpC"
      }
    },
    {
      "cell_type": "markdown",
      "metadata": {
        "id": "ZyaXzrmDSRG4"
      },
      "source": [
        "numpy and matplotlib are used by pandas library to do data manipulation and rendering of data.  But we will focus on pandas.\n",
        "\n",
        "Pandas mainly deals with dataframes - multi column arrays with labels for both columns and rows.\n",
        "First we import pandas library and configure matplotlib to render charts inline."
      ]
    },
    {
      "cell_type": "code",
      "execution_count": null,
      "metadata": {
        "id": "QowTZPLMSRG4"
      },
      "outputs": [],
      "source": [
        "%matplotlib inline\n",
        "import pandas as pd"
      ]
    },
    {
      "cell_type": "markdown",
      "metadata": {
        "id": "erYR43KsSRG5"
      },
      "source": [
        "We will use numpy to create a random array with 4 columns and 10 rows and create a data frame with this array and labels A, B, C and D for the 4 columns/series."
      ]
    },
    {
      "cell_type": "code",
      "execution_count": null,
      "metadata": {
        "id": "V529n9xbSRG5"
      },
      "outputs": [],
      "source": [
        "import numpy as np\n",
        "df2 = pd.DataFrame(np.random.randn(10, 4), columns=['a', 'b', 'c', 'd'])\n",
        "df2.plot()"
      ]
    },
    {
      "cell_type": "markdown",
      "metadata": {
        "id": "Rgqap55oSRG6"
      },
      "source": [
        "Pandas can also read data from a csv file and other formats.\n",
        "\n",
        "Find a csv file with data you want to learn or create a new one with data available in another format.  I found many available here - https://vincentarelbundock.github.io/Rdatasets/datasets.html\n",
        "\n",
        "Download/Copy the file to the same location as the notebook and remember the file name.\n",
        "\n",
        "Load data from csv and print few rows:"
      ]
    },
    {
      "cell_type": "code",
      "execution_count": null,
      "metadata": {
        "id": "qJhqV5xlSRG6"
      },
      "outputs": [],
      "source": [
        "df = pd.read_csv('https://vincentarelbundock.github.io/Rdatasets/csv/carData/TitanicSurvival.csv')\n",
        "#write a line to print few rows of data using the array/list syntax"
      ]
    },
    {
      "cell_type": "markdown",
      "metadata": {
        "id": "VyQFCsGYSRG6"
      },
      "source": [
        "Render values from a column in data frame:"
      ]
    },
    {
      "cell_type": "code",
      "execution_count": null,
      "metadata": {
        "id": "YIBIMbH1SRG7"
      },
      "outputs": [],
      "source": [
        "df['age'].plot()"
      ]
    },
    {
      "cell_type": "markdown",
      "metadata": {
        "id": "LnWPeneISRG7"
      },
      "source": [
        "You will learn more about pandas in next notebook and from the quick intro - http://pandas.pydata.org/pandas-docs/stable/10min.html"
      ]
    }
  ],
  "metadata": {
    "kernelspec": {
      "display_name": "Python 2",
      "language": "python",
      "name": "python2"
    },
    "language_info": {
      "codemirror_mode": {
        "name": "ipython",
        "version": 2
      },
      "file_extension": ".py",
      "mimetype": "text/x-python",
      "name": "python",
      "nbconvert_exporter": "python",
      "pygments_lexer": "ipython2",
      "version": "2.7.13"
    },
    "colab": {
      "provenance": [],
      "include_colab_link": true
    }
  },
  "nbformat": 4,
  "nbformat_minor": 0
}