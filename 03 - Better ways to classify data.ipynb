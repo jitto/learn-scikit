{
 "cells": [
  {
   "cell_type": "markdown",
   "metadata": {
    "collapsed": true,
    "deletable": true,
    "editable": true
   },
   "source": [
    "Simplest classification is linear - https://en.wikipedia.org/wiki/Linear_classifier\n",
    "\n",
    "4.    If anybody knows classification and regression theory, it will help to explain it in context of one of the data sets\n",
    "5.    Scikit-learn – use machine learning to classify the same data"
   ]
  },
  {
   "cell_type": "code",
   "execution_count": null,
   "metadata": {
    "collapsed": false,
    "deletable": true,
    "editable": true
   },
   "outputs": [],
   "source": [
    "import pandas as pd\n",
    "%matplotlib inline\n",
    "import matplotlib.pyplot as plt\n",
    "plt.rcParams['figure.figsize'] = (15, 5)\n",
    "import matplotlib\n",
    "matplotlib.style.use('ggplot')\n",
    "\n",
    "df = pd.read_csv('titanic_data.csv', index_col=['Name'])\n",
    "from sklearn.linear_model import LinearRegression\n",
    "reg = LinearRegression()\n",
    "\n",
    "df = df.dropna()\n",
    "outcomes = df['Survived']\n",
    "data = df.drop(['Survived', 'Sex', 'Ticket', 'Cabin', 'Embarked', 'PassengerId'], axis = 1)\n",
    "# print data.head()\n",
    "# print data.Age.hist()\n",
    "reg.fit(data, outcomes)\n",
    "# check accuracy"
   ]
  },
  {
   "cell_type": "code",
   "execution_count": null,
   "metadata": {
    "collapsed": true,
    "deletable": true,
    "editable": true
   },
   "outputs": [],
   "source": []
  }
 ],
 "metadata": {
  "kernelspec": {
   "display_name": "Python 2",
   "language": "python",
   "name": "python2"
  },
  "language_info": {
   "codemirror_mode": {
    "name": "ipython",
    "version": 2
   },
   "file_extension": ".py",
   "mimetype": "text/x-python",
   "name": "python",
   "nbconvert_exporter": "python",
   "pygments_lexer": "ipython2",
   "version": "2.7.13"
  }
 },
 "nbformat": 4,
 "nbformat_minor": 2
}
